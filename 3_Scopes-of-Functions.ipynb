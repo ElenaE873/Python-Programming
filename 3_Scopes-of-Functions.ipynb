{
 "cells": [
  {
   "cell_type": "markdown",
   "id": "be4e56b6",
   "metadata": {},
   "source": [
    "### Scope in Functions"
   ]
  },
  {
   "cell_type": "markdown",
   "id": "f5b28a0b",
   "metadata": {},
   "source": [
    "- not all objects are accessible everywhere in a script\n",
    "- **SCOPE**: is the part of the program where an object or name MAY BE ACCESSIBLE"
   ]
  },
  {
   "cell_type": "markdown",
   "id": "eef059dc",
   "metadata": {},
   "source": [
    "Types of Scopes:\n",
    "- **GLOBAL SCOPE**: object that is in the **MAIN BODY** of the script\n",
    "- **LOCAL SCOPE**: object that is defined **INSIDE A FUNCTION**\n",
    "- **NONLOCAL SCOPE**: object that is defined in a **NESTED FUNCTION** \n",
    "    - described more in 4_Nested-Functions notebook\n",
    "- **BUILT-IN SCOPE**: object that is pre-defined built-in modules (ie. print(), sum(), etc)\n"
   ]
  },
  {
   "cell_type": "markdown",
   "id": "a33eb31e",
   "metadata": {},
   "source": [
    "Sequence of Scope Search:  LEGB\n",
    "- 1 - Local Scope  (ie. single or nested)\n",
    "- 2 - Enclosing Function (ie. outer functions)\n",
    "- 3 - Global\n",
    "- 4 - Built-in\n",
    "\n",
    "Sequence is from the most inner to the most outer."
   ]
  },
  {
   "attachments": {
    "image.png": {
     "image/png": "[encoded data removed]"
    }
   },
   "cell_type": "markdown",
   "id": "1226302a",
   "metadata": {},
   "source": [
    "![image.png](attachment:image.png)"
   ]
  },
  {
   "cell_type": "markdown",
   "id": "1a1bf7de",
   "metadata": {},
   "source": [
    "How does this work?"
   ]
  },
  {
   "cell_type": "markdown",
   "id": "a5cd03e6",
   "metadata": {},
   "source": [
    "Calling a name will prompt python to first search for that name (and its associations) in the \"local scope\" (ie. within the definition body of a function), and if it is not found there, it will look in the \"global scope\" outside of the function."
   ]
  },
  {
   "cell_type": "code",
   "execution_count": 1,
   "id": "9de6be9e",
   "metadata": {},
   "outputs": [
    {
     "name": "stdout",
     "output_type": "stream",
     "text": [
      "local\n"
     ]
    }
   ],
   "source": [
    "def func():\n",
    "    x = 'local'  #<<--- variable defined in local scope\n",
    "    print(x)\n",
    "    \n",
    "x = 'global'\n",
    "\n",
    "#calling the function\n",
    "func()"
   ]
  },
  {
   "cell_type": "markdown",
   "id": "2dfe7cc2",
   "metadata": {},
   "source": [
    "Can be noticed here the variable in the local scope will take priority because python looks there first and it is found, and that's what the function will use when it is called in functioning to print(x)."
   ]
  },
  {
   "cell_type": "code",
   "execution_count": 2,
   "id": "f4b43f2b",
   "metadata": {},
   "outputs": [
    {
     "name": "stdout",
     "output_type": "stream",
     "text": [
      "global\n"
     ]
    }
   ],
   "source": [
    "#when x is not defined locally\n",
    "def func():\n",
    "    print(x)\n",
    "    \n",
    "x = 'global'\n",
    "\n",
    "#calling the function\n",
    "func()"
   ]
  },
  {
   "cell_type": "markdown",
   "id": "7f7681f9",
   "metadata": {},
   "source": [
    "x is only defined outside of the function here, in the global scope, and because it is not found in the local scope, it will print the x value in the global scope"
   ]
  },
  {
   "cell_type": "code",
   "execution_count": null,
   "id": "41fe9001",
   "metadata": {},
   "outputs": [],
   "source": [
    "#calling the variable in two differen ways:\n",
    "def func():\n",
    "    x = 'local' \n",
    "    print(x)\n",
    "    \n",
    "x = 'global'\n",
    "\n",
    "#calling the function\n",
    "func() #<--will use the local variable since the function is defined with it\n",
    "\n",
    "print(x) #<-- will use the global variable since this is a call outside of the function"
   ]
  },
  {
   "cell_type": "markdown",
   "id": "a90de881",
   "metadata": {},
   "source": [
    "Thanks to this [Pythong Tutorial](https://www.youtube.com/watch?v=gz_eN6nl5xA) now this is crystal clear."
   ]
  },
  {
   "cell_type": "markdown",
   "id": "e53c6c92",
   "metadata": {},
   "source": [
    "Some additional examples"
   ]
  },
  {
   "cell_type": "code",
   "execution_count": null,
   "id": "10b61cff",
   "metadata": {},
   "outputs": [],
   "source": [
    "#for example - LOCAL SCOPE\n",
    "def function(value):\n",
    "    \"\"\" Return the square of a value. \"\"\"\n",
    "    \n",
    "    new_value = value ** 2  #<<-- \"new_value\" is defined only in the LOCAL scope of the function\n",
    "    #and would not be accessible outside of this scope, that's why we call the function\n",
    "    \n",
    "    return new_value"
   ]
  },
  {
   "cell_type": "code",
   "execution_count": null,
   "id": "ea5d7eb6",
   "metadata": {},
   "outputs": [],
   "source": [
    "#for example - GLOBAL SCOPE\n",
    "\n",
    "new_value = 10 #<<--- this is defined globally\n",
    "\n",
    "def function(value):\n",
    "    \"\"\" Return the square of a value. \"\"\"\n",
    "    new_value = value ** 2  \n",
    "    return new_value\n",
    "\n",
    "#when we reference a name, first the local scope is searched THEN the GLOBAL\n",
    "#if its in neither, then the built-in scope is searched"
   ]
  },
  {
   "cell_type": "code",
   "execution_count": null,
   "id": "922cb150",
   "metadata": {},
   "outputs": [],
   "source": [
    "new_value = 10 \n",
    "\n",
    "def function(value):\n",
    "    \"\"\" Return the square of a value. \"\"\"\n",
    "    global new_value  #<<---this then takes prescendence in global scope\n",
    "    new_value = value ** 2  \n",
    "    return new_value"
   ]
  }
 ],
 "metadata": {
  "kernelspec": {
   "display_name": "Python 3 (ipykernel)",
   "language": "python",
   "name": "python3"
  },
  "language_info": {
   "codemirror_mode": {
    "name": "ipython",
    "version": 3
   },
   "file_extension": ".py",
   "mimetype": "text/x-python",
   "name": "python",
   "nbconvert_exporter": "python",
   "pygments_lexer": "ipython3",
   "version": "3.9.7"
  }
 },
 "nbformat": 4,
 "nbformat_minor": 5
}

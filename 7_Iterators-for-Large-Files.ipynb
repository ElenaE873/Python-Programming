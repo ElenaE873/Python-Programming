{
 "cells": [
  {
   "cell_type": "markdown",
   "id": "63505586",
   "metadata": {},
   "source": [
    "### Iterating over a large file"
   ]
  },
  {
   "cell_type": "code",
   "execution_count": null,
   "id": "abe76c46",
   "metadata": {},
   "outputs": [],
   "source": [
    "#import pandas and initialize an empty list\n",
    "\n",
    "import pandas as pd\n",
    "result = []  #to hold the result of each iteration\n",
    "\n",
    "#use the read_csv function utilizing the chunk argument\n",
    "for chunk in pd.read_csv('filename.csv', chunksize=1000):  #chuck size to read in at a time\n",
    "    #pd.read_csv is now an iterable and can be looped over\n",
    "    #and each chunk will be a dataframe\n",
    "    \n",
    "    result.append(sum(chunk['column_of_interest']))  \n",
    "    \n",
    "total = sum(result)\n",
    "print(total)  #sum of the column of interest"
   ]
  },
  {
   "cell_type": "markdown",
   "id": "79babfd6",
   "metadata": {},
   "source": [
    "Another example using an empty dictionary"
   ]
  },
  {
   "cell_type": "code",
   "execution_count": null,
   "id": "c8877ade",
   "metadata": {},
   "outputs": [],
   "source": [
    "#initializing an empty dictionary\n",
    "dictionary = {}\n",
    "\n",
    "#iterate over the file chunk by chunk\n",
    "for chunk in pd.read_csv('filename.csv', chunksize=10):\n",
    "\n",
    "    #iterate over the column in DataFrame\n",
    "    for entry in chunk['column']:\n",
    "        if entry in dictionary.keys():\n",
    "            dictionary[entry] += 1\n",
    "        else:\n",
    "            dictionary[entry] = 1\n",
    "\n",
    "#print the populated dictionary\n",
    "print(dictionary)"
   ]
  }
 ],
 "metadata": {
  "kernelspec": {
   "display_name": "Python 3 (ipykernel)",
   "language": "python",
   "name": "python3"
  },
  "language_info": {
   "codemirror_mode": {
    "name": "ipython",
    "version": 3
   },
   "file_extension": ".py",
   "mimetype": "text/x-python",
   "name": "python",
   "nbconvert_exporter": "python",
   "pygments_lexer": "ipython3",
   "version": "3.9.7"
  }
 },
 "nbformat": 4,
 "nbformat_minor": 5
}

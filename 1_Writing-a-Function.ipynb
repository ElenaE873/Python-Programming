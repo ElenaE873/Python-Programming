{
 "cells": [
  {
   "cell_type": "markdown",
   "id": "c800012f",
   "metadata": {},
   "source": [
    "### Defining a Function"
   ]
  },
  {
   "cell_type": "code",
   "execution_count": null,
   "id": "27856346",
   "metadata": {},
   "outputs": [],
   "source": [
    "# 1 - Function Header\n",
    "def function():  #there are no current parameters in the function right now\n",
    "    # 2 - Funcation definition, ie. Function Body\n",
    "    new_value = 4 ** 2\n",
    "    print(new_value)\n",
    "\n",
    "# 3 - Calling the function\n",
    "function()"
   ]
  },
  {
   "cell_type": "markdown",
   "id": "bad29b30",
   "metadata": {},
   "source": [
    "##### adding parameters to customize the function"
   ]
  },
  {
   "cell_type": "code",
   "execution_count": null,
   "id": "b61dcfa0",
   "metadata": {},
   "outputs": [],
   "source": [
    "# 1 - Function Header\n",
    "def function(value):  #customize the function so that you can call the function with a parameter\n",
    "    \n",
    "    new_value = value ** 2\n",
    "    print(new_value)\n",
    "    \n",
    "    #OR the use the return key word to return the result\n",
    "    #this may be useful if need to assign this returned value to a variable\n",
    "    return new_value\n",
    "\n",
    "# 3 - Calling the function\n",
    "function(value)  #value here can be a number, such as a value of any number\n",
    "\n",
    "#OR assigning the result of the function to a variable\n",
    "num = function(value)"
   ]
  },
  {
   "cell_type": "markdown",
   "id": "c5cbb682",
   "metadata": {},
   "source": [
    "Parameters vs. Arguments:\n",
    "- **Parameters** are listed when defining a function in the function header\n",
    "- **Arguments** are passed when a function is called"
   ]
  },
  {
   "cell_type": "markdown",
   "id": "8ce61d8f",
   "metadata": {},
   "source": [
    "### Documentation for the Function"
   ]
  },
  {
   "cell_type": "markdown",
   "id": "7abf0d29",
   "metadata": {},
   "source": [
    "**Docstrings** are used for this purpose."
   ]
  },
  {
   "cell_type": "code",
   "execution_count": null,
   "id": "e76b825a",
   "metadata": {},
   "outputs": [],
   "source": [
    "def function(value):\n",
    "    \"\"\" Return the square of a value. \"\"\"\n",
    "    new_value = value ** 2\n",
    "    return new_value"
   ]
  },
  {
   "cell_type": "markdown",
   "id": "84adab62",
   "metadata": {},
   "source": [
    "Defining a string function"
   ]
  },
  {
   "cell_type": "code",
   "execution_count": null,
   "id": "a57e1812",
   "metadata": {},
   "outputs": [],
   "source": [
    "def shout():\n",
    "    \"\"\"Print a string with three exclamation marks\"\"\"\n",
    "    # Concatenate the strings: shout_word\n",
    "    shout_word = 'Congratulations' + '!!!'\n",
    "    print(shout_word)\n",
    "\n",
    "# call function\n",
    "shout()\n",
    "\n",
    "\n",
    "#--------------------------------------\n",
    "#and using a parameter and arguments to construct this\n",
    "# Define shout with the parameter, word\n",
    "def shout(word):\n",
    "    \"\"\"Print a string with three exclamation marks\"\"\"\n",
    "    shout_word = word + '!!!'\n",
    "    print(shout_word)\n",
    "\n",
    "# Call by using the argument Congratulations\n",
    "shout('congratulations')"
   ]
  }
 ],
 "metadata": {
  "kernelspec": {
   "display_name": "Python 3 (ipykernel)",
   "language": "python",
   "name": "python3"
  },
  "language_info": {
   "codemirror_mode": {
    "name": "ipython",
    "version": 3
   },
   "file_extension": ".py",
   "mimetype": "text/x-python",
   "name": "python",
   "nbconvert_exporter": "python",
   "pygments_lexer": "ipython3",
   "version": "3.9.7"
  }
 },
 "nbformat": 4,
 "nbformat_minor": 5
}

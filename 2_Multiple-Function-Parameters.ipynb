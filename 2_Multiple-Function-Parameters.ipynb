{
 "cells": [
  {
   "cell_type": "markdown",
   "id": "88b2dd67",
   "metadata": {},
   "source": [
    "Continuation of 1_Writing-a-Function"
   ]
  },
  {
   "cell_type": "markdown",
   "id": "733db629",
   "metadata": {},
   "source": [
    "### Entering Multiple Parameters"
   ]
  },
  {
   "cell_type": "code",
   "execution_count": null,
   "id": "ce74c686",
   "metadata": {},
   "outputs": [],
   "source": [
    "def function(value1, value2):\n",
    "    \"\"\" Raising value1 to the power of value2. \"\"\"\n",
    "    new_value = value1 ** value2\n",
    "    return new_value"
   ]
  },
  {
   "cell_type": "markdown",
   "id": "2961762e",
   "metadata": {},
   "source": [
    "Calling the function\n",
    "- the number of arguments must equal the number of parameters\n",
    "- the order must also be the same as well"
   ]
  },
  {
   "cell_type": "code",
   "execution_count": null,
   "id": "fac91341",
   "metadata": {},
   "outputs": [],
   "source": [
    "#value 2 is assigned to value1 paramater, and value 3 is assigned to value2 parameter\n",
    "result = function(2,3)\n",
    "print(result)"
   ]
  },
  {
   "cell_type": "markdown",
   "id": "8220e81d",
   "metadata": {},
   "source": [
    "#### Tuples"
   ]
  },
  {
   "cell_type": "markdown",
   "id": "0a751751",
   "metadata": {},
   "source": [
    "- similar to a **list** in that it has multiple values\n",
    "    - AND can be accessed similar like lists with **zero-indexing**\n",
    "- IMMUTABLE, therefore values cannot be modified\n",
    "- constructed with parantheses(\"()\")"
   ]
  },
  {
   "cell_type": "markdown",
   "id": "00ed5d02",
   "metadata": {},
   "source": [
    "### Returning Multiple Results"
   ]
  },
  {
   "cell_type": "code",
   "execution_count": null,
   "id": "e595bb23",
   "metadata": {},
   "outputs": [],
   "source": [
    "def function(value1, value2):\n",
    "    \"\"\" Raising value1 to the power of value2, and vice versa. \"\"\"\n",
    "    new_value1 = value1 ** value2\n",
    "    new_value2 = value2 ** value1\n",
    "    \n",
    "    new_tuple = (new_value1, new_value2)\n",
    "    \n",
    "    return new_tuple\n",
    "\n",
    "#calling the function\n",
    "result = function(2,3)\n",
    "print(result)"
   ]
  }
 ],
 "metadata": {
  "kernelspec": {
   "display_name": "Python 3 (ipykernel)",
   "language": "python",
   "name": "python3"
  },
  "language_info": {
   "codemirror_mode": {
    "name": "ipython",
    "version": 3
   },
   "file_extension": ".py",
   "mimetype": "text/x-python",
   "name": "python",
   "nbconvert_exporter": "python",
   "pygments_lexer": "ipython3",
   "version": "3.9.7"
  }
 },
 "nbformat": 4,
 "nbformat_minor": 5
}

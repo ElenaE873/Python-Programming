{
 "cells": [
  {
   "cell_type": "markdown",
   "id": "63bad2ce",
   "metadata": {},
   "source": [
    "### [1] Docstrings"
   ]
  },
  {
   "cell_type": "markdown",
   "id": "c5fc7312",
   "metadata": {},
   "source": [
    "The string written as the first line of a function."
   ]
  },
  {
   "cell_type": "code",
   "execution_count": null,
   "id": "ecaa3a1e",
   "metadata": {},
   "outputs": [],
   "source": [
    "def function:\n",
    "    \"\"\" Documentation should ideally include details about:\n",
    "    \n",
    "    Arguments (Args)\n",
    "    \n",
    "    Returns:\n",
    "    \n",
    "    Errors/Concerns Raised:\n",
    "    \n",
    "    Notes:\n",
    "    \n",
    "    \"\"\""
   ]
  },
  {
   "cell_type": "markdown",
   "id": "3b27dd20",
   "metadata": {},
   "source": [
    "#### Docstrings Formats"
   ]
  },
  {
   "cell_type": "markdown",
   "id": "ff50d816",
   "metadata": {},
   "source": [
    "- Google Style\n",
    "- Numpydoc\n",
    "- reStructuredText\n",
    "- EpyText"
   ]
  },
  {
   "cell_type": "markdown",
   "id": "7bb48643",
   "metadata": {},
   "source": [
    "#### Getting the documentation of a function"
   ]
  },
  {
   "cell_type": "code",
   "execution_count": null,
   "id": "0b3cc20d",
   "metadata": {},
   "outputs": [],
   "source": [
    "print(function.__doc__)"
   ]
  },
  {
   "cell_type": "code",
   "execution_count": null,
   "id": "5c3b094e",
   "metadata": {},
   "outputs": [],
   "source": [
    "#or\n",
    "import inspect\n",
    "print(inspect.getdoc(function))"
   ]
  },
  {
   "cell_type": "markdown",
   "id": "c5c0d8aa",
   "metadata": {},
   "source": [
    "### [2] DRY (don't repeat yourself) and \"Do One Thing\""
   ]
  },
  {
   "cell_type": "markdown",
   "id": "9fb66f89",
   "metadata": {},
   "source": [
    "DRY:\n",
    "- copying/pasting can accidently introduce errors that are hard to spot if code is repeated often.\n",
    "- if you want to change something, you have to do it in multiple places\n",
    "- this is where the use of functions avoids repetition"
   ]
  },
  {
   "cell_type": "markdown",
   "id": "f2d8bb41",
   "metadata": {},
   "source": [
    "### Do one thing per function step"
   ]
  },
  {
   "cell_type": "markdown",
   "id": "9b84d8e4",
   "metadata": {},
   "source": [
    "- More flexible\n",
    "- More easily understood\n",
    "- Simpler to test\n",
    "- Simpler to debug\n",
    "- Easier to predict change in code pipeline, when a change is made to a piece of the code."
   ]
  },
  {
   "cell_type": "markdown",
   "id": "d253b40c",
   "metadata": {},
   "source": [
    "### Pass by Assignment"
   ]
  },
  {
   "cell_type": "code",
   "execution_count": 8,
   "id": "a072a534",
   "metadata": {},
   "outputs": [
    {
     "name": "stdout",
     "output_type": "stream",
     "text": [
      "None\n"
     ]
    },
    {
     "data": {
      "text/plain": [
       "4"
      ]
     },
     "execution_count": 8,
     "metadata": {},
     "output_type": "execute_result"
    }
   ],
   "source": [
    "def bar(x):\n",
    "    x = x + 90 \n",
    "    \n",
    "my_var = 4\n",
    "print(bar(my_var))\n",
    "\n",
    "my_var #not changed"
   ]
  },
  {
   "cell_type": "markdown",
   "id": "e8725903",
   "metadata": {},
   "source": [
    "### Immutable vs. Mutable"
   ]
  },
  {
   "cell_type": "markdown",
   "id": "f0349d65",
   "metadata": {},
   "source": [
    "Immutable:\n",
    "- int\n",
    "- float\n",
    "- bool\n",
    "- string\n",
    "- bytes\n",
    "- tuple\n",
    "- frozenset\n",
    "- None\n",
    "\n",
    "Mutable:\n",
    "- list\n",
    "- dict\n",
    "- set\n",
    "- bytearray\n",
    "- objects\n",
    "- functions\n",
    "- almost everything else!"
   ]
  },
  {
   "cell_type": "markdown",
   "id": "b17884a5",
   "metadata": {},
   "source": [
    "## Context Managers"
   ]
  },
  {
   "cell_type": "markdown",
   "id": "46928c29",
   "metadata": {},
   "source": [
    "A function that sets up a context, runs the code, and removes the context."
   ]
  },
  {
   "attachments": {
    "image.png": {
     "image/png": "[encoded data removed]"
    }
   },
   "cell_type": "markdown",
   "id": "126e598a",
   "metadata": {},
   "source": [
    "one of my favorite analogies\n",
    "![image.png](attachment:image.png)"
   ]
  },
  {
   "cell_type": "markdown",
   "id": "37d066f3",
   "metadata": {},
   "source": [
    "example: open function"
   ]
  },
  {
   "cell_type": "code",
   "execution_count": null,
   "id": "da419b81",
   "metadata": {},
   "outputs": [],
   "source": [
    "with open('filename.txt') as my_file:\n",
    "    text = filename.rea()\n",
    "    length = len(text)\n",
    "    \n",
    "print ('The file is {} characters long'.format(length))"
   ]
  },
  {
   "cell_type": "markdown",
   "id": "a0349371",
   "metadata": {},
   "source": [
    "- opens the file\n",
    "- performs actions on the code and runs it\n",
    "- and then closes the file"
   ]
  },
  {
   "cell_type": "code",
   "execution_count": null,
   "id": "460b2c5e",
   "metadata": {},
   "outputs": [],
   "source": [
    "#how to know you're using a context manager\n",
    "\n",
    "#use \"with\" and call any function that can act as a content manager\n",
    "with <context-manager>():\n",
    "    #runs the code here\n",
    "    #and it is running \"inside the context\"\n",
    "    \n",
    "#unindented code runs after context is removed"
   ]
  },
  {
   "cell_type": "code",
   "execution_count": null,
   "id": "5c2f96b1",
   "metadata": {},
   "outputs": [],
   "source": [
    "#some context managers want a return variable that you can use inside the context \"as variable\"\n",
    "with <context-manager>() as <variable-name>:\n",
    "    #runs the code here\n",
    "    #and it is running \"inside the context\"\n",
    "    \n",
    "#unindented code runs after context is removed"
   ]
  },
  {
   "cell_type": "markdown",
   "id": "1d2cfaad",
   "metadata": {},
   "source": [
    "#### two ways to define a context manager"
   ]
  },
  {
   "cell_type": "markdown",
   "id": "65577842",
   "metadata": {},
   "source": [
    "- 1) class-based or\n",
    "- 2) function-based (discussed here)"
   ]
  },
  {
   "cell_type": "markdown",
   "id": "d963f32a",
   "metadata": {},
   "source": [
    "#### create a context manager"
   ]
  },
  {
   "cell_type": "markdown",
   "id": "41deb0a4",
   "metadata": {},
   "source": [
    "- 1 - Define a function\n",
    "- 2 - (opt) Add any code your context needs\n",
    "- 3 - Use \"yiel\" keyword\n",
    "- 4 - (opt) Add any teardown code your context needs\n",
    "- 5 - Add the '@contextlib.contextmanager' decorator"
   ]
  },
  {
   "cell_type": "markdown",
   "id": "c7621fb6",
   "metadata": {},
   "source": [
    "##### \"yield\""
   ]
  },
  {
   "cell_type": "markdown",
   "id": "cae11ead",
   "metadata": {},
   "source": [
    "you write your code to return a value but you intend to finish the code in future lines"
   ]
  },
  {
   "cell_type": "markdown",
   "id": "84315360",
   "metadata": {},
   "source": [
    "### Nested Contexts"
   ]
  },
  {
   "cell_type": "code",
   "execution_count": null,
   "id": "274b1f98",
   "metadata": {},
   "outputs": [],
   "source": [
    "def copy(src, dst):  #this approach is especially useful to handle large files\n",
    "    \"\"\" Copy the contents of one file to another.\n",
    "    \n",
    "    Args:\n",
    "        src(str): File name of the file to be copied.\n",
    "        dst(str): Where to write the new file.\n",
    "    \"\"\"\n",
    "    \n",
    "#open both files\n",
    "with open(src) as f_src:\n",
    "    #read and write each line on at a time in a for loop\n",
    "    for line in f_src:\n",
    "        f_dst.write(line)\n",
    "        "
   ]
  },
  {
   "cell_type": "markdown",
   "id": "36594c2f",
   "metadata": {},
   "source": [
    "### Handling Errors"
   ]
  },
  {
   "cell_type": "markdown",
   "id": "3fb43c3c",
   "metadata": {},
   "source": [
    "Trying the following statements\n",
    "\n",
    "try:\n",
    "- code that might raise an error \n",
    "- by running the code inside the try block\n",
    "\n",
    "except:\n",
    "- do something about the error\n",
    "\n",
    "finally:\n",
    "- this code run no matter what"
   ]
  },
  {
   "cell_type": "markdown",
   "id": "da2c0556",
   "metadata": {},
   "source": [
    "## Decorators"
   ]
  },
  {
   "cell_type": "markdown",
   "id": "cd1d104c",
   "metadata": {},
   "source": [
    "Modifying the behavior of functions"
   ]
  },
  {
   "cell_type": "markdown",
   "id": "61f50390",
   "metadata": {},
   "source": [
    "Functions: are just another type of object in python\n",
    "- this means you can do anything with them as you would with other objects:\n",
    "    - have them function as variables\n",
    "    - as list and dictionaries\n",
    "    - as arguments\n",
    "    \n",
    "They also make use of:\n",
    "- functions as objects\n",
    "- nested functions\n",
    "- nonlocal scope\n",
    "- and closures"
   ]
  },
  {
   "attachments": {
    "image.png": {
     "image/png": "[encoded data removed]"
    }
   },
   "cell_type": "markdown",
   "id": "9c27c131",
   "metadata": {},
   "source": [
    "![image.png](attachment:image.png)"
   ]
  },
  {
   "cell_type": "code",
   "execution_count": null,
   "id": "eae585a7",
   "metadata": {},
   "outputs": [],
   "source": [
    "#the decorator\n",
    "@double_args\n",
    "\n",
    "def multiply(a,b): #takes in a and b and multiplies them\n",
    "    return a * b\n",
    "\n",
    "def double_args(func): #takes in a func and returns it\n",
    "    return func\n",
    "\n",
    "    def wrapper(a, b): \n",
    "        return func(a,b)\n",
    "    return wrapper"
   ]
  },
  {
   "cell_type": "markdown",
   "id": "04bf98bf",
   "metadata": {},
   "source": [
    "It's essentially a **wrapper** around the function that changes that function's behavior."
   ]
  },
  {
   "cell_type": "code",
   "execution_count": 11,
   "id": "ee819eca",
   "metadata": {},
   "outputs": [
    {
     "data": {
      "text/plain": [
       "function"
      ]
     },
     "execution_count": 11,
     "metadata": {},
     "output_type": "execute_result"
    }
   ],
   "source": [
    "#as variables:\n",
    "\n",
    "def my_function():\n",
    "    print(\"Hello\")\n",
    "    \n",
    "x = my_function  \n",
    "#without the parantheses you are referencing (rather than calling) the function itself\n",
    "\n",
    "type(x)"
   ]
  },
  {
   "cell_type": "code",
   "execution_count": 12,
   "id": "8ce3c263",
   "metadata": {},
   "outputs": [
    {
     "name": "stdout",
     "output_type": "stream",
     "text": [
      "I am printing!\n"
     ]
    }
   ],
   "source": [
    "#as a dictionary\n",
    "dict_of_functions = {\n",
    "    'func1' : my_function,\n",
    "    'func2' : open,\n",
    "    'func3' : print\n",
    "}\n",
    "\n",
    "dict_of_functions['func3']('I am printing!')"
   ]
  },
  {
   "cell_type": "code",
   "execution_count": null,
   "id": "1990ee45",
   "metadata": {},
   "outputs": [],
   "source": [
    "#as argument\n",
    "\n",
    "def has_docstrings(func):\n",
    "    \"\"\" Docstrings\"\"\"\n",
    "    return func.__doc__ is not None"
   ]
  }
 ],
 "metadata": {
  "kernelspec": {
   "display_name": "Python 3 (ipykernel)",
   "language": "python",
   "name": "python3"
  },
  "language_info": {
   "codemirror_mode": {
    "name": "ipython",
    "version": 3
   },
   "file_extension": ".py",
   "mimetype": "text/x-python",
   "name": "python",
   "nbconvert_exporter": "python",
   "pygments_lexer": "ipython3",
   "version": "3.9.7"
  }
 },
 "nbformat": 4,
 "nbformat_minor": 5
}

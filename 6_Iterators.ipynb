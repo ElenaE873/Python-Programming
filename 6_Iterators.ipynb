{
 "cells": [
  {
   "cell_type": "markdown",
   "id": "82265580",
   "metadata": {},
   "source": [
    "### Iterables"
   ]
  },
  {
   "cell_type": "markdown",
   "id": "830b3dca",
   "metadata": {},
   "source": [
    "- Lists\n",
    "- Strings\n",
    "- Dictionaries\n",
    "- File connections"
   ]
  },
  {
   "cell_type": "markdown",
   "id": "04a32caf",
   "metadata": {},
   "source": [
    "It is an object that is associated with an iter() method."
   ]
  },
  {
   "cell_type": "markdown",
   "id": "4ddde7d2",
   "metadata": {},
   "source": [
    "**Applying iter() to an iterable creates an iterator.** <<--- This is actually what a FOR LOOP is doing. \n",
    "- it takes an iterable\n",
    "- creates the associated iterator object\n",
    "- and iterates over it"
   ]
  },
  {
   "cell_type": "code",
   "execution_count": 1,
   "id": "ac3cdfe6",
   "metadata": {},
   "outputs": [
    {
     "name": "stdout",
     "output_type": "stream",
     "text": [
      "S t r i n g\n"
     ]
    }
   ],
   "source": [
    "#simple iterator\n",
    "\n",
    "#defining the iterable as a variable\n",
    "variable = 'String'\n",
    "\n",
    "#passing the iterable through the iter() method\n",
    "iterator = iter(variable)\n",
    "\n",
    "#printing the result of the iterator as it iterates over the string \n",
    "#as it prints out each item in the string\n",
    "print(*iterator)"
   ]
  },
  {
   "cell_type": "markdown",
   "id": "72ab2f40",
   "metadata": {},
   "source": [
    "Using .items() method for Dictionaries"
   ]
  },
  {
   "cell_type": "code",
   "execution_count": 2,
   "id": "79529be0",
   "metadata": {},
   "outputs": [
    {
     "name": "stdout",
     "output_type": "stream",
     "text": [
      "key1 value1\n",
      "key2 value2\n"
     ]
    }
   ],
   "source": [
    "key_value_dic = {\n",
    "    'key1' : 'value1',\n",
    "    'key2' : 'value2'\n",
    "}\n",
    "\n",
    "for key, value in key_value_dic.items():\n",
    "    print(key, value)"
   ]
  },
  {
   "cell_type": "markdown",
   "id": "f0d95028",
   "metadata": {},
   "source": [
    "Using iterator over file connections"
   ]
  },
  {
   "cell_type": "code",
   "execution_count": null,
   "id": "181b2562",
   "metadata": {},
   "outputs": [],
   "source": [
    "file = open('filename.txt')\n",
    "\n",
    "iterator = iter(file)\n",
    "print(next(it))  #and just repeat"
   ]
  },
  {
   "cell_type": "markdown",
   "id": "b97aef62",
   "metadata": {},
   "source": [
    "Iterating over a list - example"
   ]
  },
  {
   "cell_type": "code",
   "execution_count": 4,
   "id": "f3e30716",
   "metadata": {},
   "outputs": [
    {
     "name": "stdout",
     "output_type": "stream",
     "text": [
      "item1\n",
      "item2\n",
      "item3\n",
      "i\n",
      "t\n",
      "e\n",
      "m\n"
     ]
    }
   ],
   "source": [
    "list_of_items = ['item1', 'item2', 'item3']\n",
    "\n",
    "for item in list_of_items:\n",
    "    print(item)\n",
    "\n",
    "# Create an iterator for flash: superhero\n",
    "iterator = iter(item)\n",
    "\n",
    "# Print each item from the iterator\n",
    "print(next(iterator))\n",
    "print(next(iterator))\n",
    "print(next(iterator))\n",
    "print(next(iterator))"
   ]
  },
  {
   "cell_type": "markdown",
   "id": "ce023936",
   "metadata": {},
   "source": [
    "### Enumerate"
   ]
  },
  {
   "cell_type": "markdown",
   "id": "9112731a",
   "metadata": {},
   "source": [
    "Examples:"
   ]
  },
  {
   "cell_type": "code",
   "execution_count": 5,
   "id": "d0c6a205",
   "metadata": {},
   "outputs": [
    {
     "name": "stdout",
     "output_type": "stream",
     "text": [
      "[(0, 'charles xavier'), (1, 'bobby drake'), (2, 'kurt wagner'), (3, 'max eisenhardt'), (4, 'kitty pryde')]\n",
      "0 charles xavier\n",
      "1 bobby drake\n",
      "2 kurt wagner\n",
      "3 max eisenhardt\n",
      "4 kitty pryde\n",
      "1 charles xavier\n",
      "2 bobby drake\n",
      "3 kurt wagner\n",
      "4 max eisenhardt\n",
      "5 kitty pryde\n"
     ]
    }
   ],
   "source": [
    "# Create a list of strings: mutants\n",
    "mutants = ['charles xavier', \n",
    "            'bobby drake', \n",
    "            'kurt wagner', \n",
    "            'max eisenhardt', \n",
    "            'kitty pryde']\n",
    "\n",
    "# Create a list of tuples: mutant_list\n",
    "mutant_list = list(enumerate(mutants))\n",
    "\n",
    "# Print the list of tuples\n",
    "print(mutant_list)\n",
    "\n",
    "# Unpack and print the tuple pairs\n",
    "for index1, value1 in enumerate(mutants):\n",
    "    print(index1, value1)\n",
    "\n",
    "# Change the start index\n",
    "for index2, value2 in enumerate(mutants, start=1):\n",
    "    print(index2, value2)"
   ]
  },
  {
   "cell_type": "markdown",
   "id": "cb91fb37",
   "metadata": {},
   "source": [
    "### Zip"
   ]
  },
  {
   "cell_type": "code",
   "execution_count": null,
   "id": "441d668b",
   "metadata": {},
   "outputs": [],
   "source": [
    "# Create a list of tuples: mutant_data\n",
    "mutant_data = list(zip(mutants, aliases, powers))\n",
    "\n",
    "# Print the list of tuples\n",
    "print(mutant_data)\n",
    "\n",
    "# Create a zip object using the three lists: mutant_zip\n",
    "mutant_zip = zip(mutants, aliases, powers)\n",
    "\n",
    "# Print the zip object\n",
    "print(mutant_zip)\n",
    "\n",
    "# Unpack the zip object and print the tuple values\n",
    "for value1, value2, value3 in mutant_zip:\n",
    "    print(value1, value2, value3)"
   ]
  },
  {
   "cell_type": "code",
   "execution_count": null,
   "id": "76f34f57",
   "metadata": {},
   "outputs": [],
   "source": [
    "# Create a zip object from mutants and powers: z1\n",
    "z1 = zip(mutants, powers)\n",
    "\n",
    "# Print the tuples in z1 by unpacking with *\n",
    "print(*z1)\n",
    "\n",
    "# Re-create a zip object from mutants and powers: z1\n",
    "z1 = zip(mutants, powers)\n",
    "\n",
    "# 'Unzip' the tuples in z1 by unpacking with * and zip(): result1, result2\n",
    "result1, result2 = zip(*z1)\n",
    "\n",
    "# Check if unpacked tuples are equivalent to original tuples\n",
    "print(result1 == mutants)\n",
    "print(result2 == powers)"
   ]
  }
 ],
 "metadata": {
  "kernelspec": {
   "display_name": "Python 3 (ipykernel)",
   "language": "python",
   "name": "python3"
  },
  "language_info": {
   "codemirror_mode": {
    "name": "ipython",
    "version": 3
   },
   "file_extension": ".py",
   "mimetype": "text/x-python",
   "name": "python",
   "nbconvert_exporter": "python",
   "pygments_lexer": "ipython3",
   "version": "3.9.7"
  }
 },
 "nbformat": 4,
 "nbformat_minor": 5
}

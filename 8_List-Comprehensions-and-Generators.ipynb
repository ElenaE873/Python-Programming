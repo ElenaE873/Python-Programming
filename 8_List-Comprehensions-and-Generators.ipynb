{
 "cells": [
  {
   "cell_type": "markdown",
   "id": "7c98079b",
   "metadata": {},
   "source": [
    "For Loops are inefficient and can often be turned into \"one-liner\" code with:"
   ]
  },
  {
   "cell_type": "markdown",
   "id": "0de4e248",
   "metadata": {},
   "source": [
    "### List Comprehensions"
   ]
  },
  {
   "cell_type": "code",
   "execution_count": null,
   "id": "1a776864",
   "metadata": {},
   "outputs": [],
   "source": [
    "#structure\n",
    "\n",
    "#1 - the original list\n",
    "values_list = [value1, value2, value3]\n",
    "\n",
    "#2 - clause referencing the original list\n",
    "new_nums = [value + 1 for value in values_list]\n",
    "print(new_nums)\n",
    "\n",
    "#compared to a for loop:\n",
    "for value in values_list:\n",
    "    new_nums.append(value +1)\n",
    "print(new_nums)"
   ]
  },
  {
   "cell_type": "markdown",
   "id": "65640d2e",
   "metadata": {},
   "source": [
    "### List Comprehensions vs. Generator Expression"
   ]
  },
  {
   "cell_type": "markdown",
   "id": "91d5d9e8",
   "metadata": {},
   "source": [
    "List Comprehension:\n",
    "- returns a list\n",
    "- uses square brakets\n",
    "\n",
    "Generator Expressions:\n",
    "- returns a generator object\n",
    "- uses round paratheses\n",
    "\n",
    "Both\n",
    "- can be iterated over"
   ]
  },
  {
   "cell_type": "code",
   "execution_count": null,
   "id": "3abbdbff",
   "metadata": {},
   "outputs": [],
   "source": [
    "#looping over a generator\n",
    "result = (num for num in range(6))\n",
    "\n",
    "for num in result:\n",
    "    print(num)"
   ]
  },
  {
   "cell_type": "markdown",
   "id": "37e95d80",
   "metadata": {},
   "source": [
    "### Generator Functions"
   ]
  },
  {
   "cell_type": "markdown",
   "id": "51daf451",
   "metadata": {},
   "source": [
    "- produces a general object when called\n",
    "- uses the \"def\" like a regular function\n",
    "- generates a value with \"yield\" keyword rathe than \"return\""
   ]
  },
  {
   "cell_type": "code",
   "execution_count": null,
   "id": "617384f2",
   "metadata": {},
   "outputs": [],
   "source": [
    "#example generating values 0 to n\n",
    "\n",
    "def num_sequence(n):\n",
    "    \"\"\" Generate values from 0 and n.\"\"\"\n",
    "    i = 0\n",
    "    whilte i < n:\n",
    "        yield i\n",
    "        i += 1"
   ]
  }
 ],
 "metadata": {
  "kernelspec": {
   "display_name": "Python 3 (ipykernel)",
   "language": "python",
   "name": "python3"
  },
  "language_info": {
   "codemirror_mode": {
    "name": "ipython",
    "version": 3
   },
   "file_extension": ".py",
   "mimetype": "text/x-python",
   "name": "python",
   "nbconvert_exporter": "python",
   "pygments_lexer": "ipython3",
   "version": "3.9.7"
  }
 },
 "nbformat": 4,
 "nbformat_minor": 5
}

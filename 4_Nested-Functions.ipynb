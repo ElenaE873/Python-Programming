{
 "cells": [
  {
   "cell_type": "markdown",
   "id": "a86595b1",
   "metadata": {},
   "source": [
    "### Nested Functions Format"
   ]
  },
  {
   "cell_type": "code",
   "execution_count": null,
   "id": "636947aa",
   "metadata": {},
   "outputs": [],
   "source": [
    "def outer(...):\n",
    "    \"\"\"  \"\"\"\n",
    "    x = ....\n",
    "    \n",
    "    def inner(...):\n",
    "        y = \n",
    "\n",
    "    return"
   ]
  },
  {
   "cell_type": "markdown",
   "id": "9103e197",
   "metadata": {},
   "source": [
    "Python searches the scope of the function inner and then looks in the local scope of the function outer."
   ]
  },
  {
   "cell_type": "markdown",
   "id": "2feeadb0",
   "metadata": {},
   "source": [
    "#### Why use a Nested Function"
   ]
  },
  {
   "cell_type": "markdown",
   "id": "7a6027a3",
   "metadata": {},
   "source": [
    "- Need / want to use a process a number of times within a function."
   ]
  },
  {
   "cell_type": "code",
   "execution_count": null,
   "id": "f8df28f2",
   "metadata": {},
   "outputs": [],
   "source": [
    "#example of a simple nested function\n",
    "\n",
    "def raise_val(n):\n",
    "    \"\"\" Returns the inner function result.\"\"\"\n",
    "    \n",
    "    def inner(x):\n",
    "        raised = x ** n\n",
    "        return raised\n",
    "    \n",
    "    return inner\n",
    "\n",
    "#calling the function\n",
    "#raise_val function here returns the inner fuction above, meaning:\n",
    "#the inner function descriptoin is to take a value of x and raise it to a power of n\n",
    "\n",
    "#here we defined the value of n (because this is the parameter set for raise_val())\n",
    "square = raise_val(2)\n",
    "cubed = raise_val(3)\n",
    "\n",
    "#here we pass the arguments 2, 4 as the x's\n",
    "print(square(2), cube(4))\n",
    "\n",
    "#the result is 2^2 = 4 and 4^3 = 64"
   ]
  },
  {
   "cell_type": "markdown",
   "id": "155ad0bd",
   "metadata": {},
   "source": [
    "### Using Nonlocal Scope"
   ]
  },
  {
   "cell_type": "code",
   "execution_count": null,
   "id": "9eb63ed6",
   "metadata": {},
   "outputs": [],
   "source": [
    "def outer():\n",
    "    \"\"\"  \"\"\"\n",
    "    n = 1\n",
    "    \n",
    "    def inner():\n",
    "        nonlocal n\n",
    "        n = 2\n",
    "        print(n)\n",
    "\n",
    "    inner()\n",
    "    print(n)"
   ]
  },
  {
   "cell_type": "markdown",
   "id": "62aba595",
   "metadata": {},
   "source": [
    "Examples involving strings:"
   ]
  },
  {
   "cell_type": "code",
   "execution_count": null,
   "id": "5a376abb",
   "metadata": {},
   "outputs": [],
   "source": [
    "# Define three_shouts\n",
    "def three_shouts(word1, word2, word3):\n",
    "    \"\"\"Returns a tuple of strings\n",
    "    concatenated with '!!!'.\"\"\"\n",
    "\n",
    "    # Define inner\n",
    "    def inner(word):\n",
    "        \"\"\"Returns a string concatenated with '!!!'.\"\"\"\n",
    "        return word + '!!!'\n",
    "\n",
    "    # Return a tuple of strings\n",
    "    return (inner(word1), inner(word2), inner(word3))\n",
    "\n",
    "# Call three_shouts() and print\n",
    "print(three_shouts('a', 'b', 'c'))"
   ]
  },
  {
   "cell_type": "code",
   "execution_count": null,
   "id": "e9c590a5",
   "metadata": {},
   "outputs": [],
   "source": [
    "# Define echo\n",
    "def echo(n):\n",
    "    \"\"\"Return the inner_echo function.\"\"\"\n",
    "\n",
    "    # Define inner_echo\n",
    "    def ____(____):\n",
    "        \"\"\"Concatenate n copies of word1.\"\"\"\n",
    "        echo_word = word1 * n\n",
    "        return echo_word\n",
    "\n",
    "    # Return inner_echo\n",
    "    \n",
    "\n",
    "# Call echo: twice\n",
    "twice = echo(2)\n",
    "\n",
    "# Call echo: thrice\n",
    "\n",
    "\n",
    "# Call twice() and thrice() then print\n",
    "print(twice('hello'), thrice('hello'))"
   ]
  },
  {
   "cell_type": "code",
   "execution_count": null,
   "id": "116a2190",
   "metadata": {},
   "outputs": [],
   "source": [
    "# Define echo_shout()\n",
    "def echo_shout(word):\n",
    "    \"\"\"Change the value of a nonlocal variable\"\"\"\n",
    "    \n",
    "    # Concatenate word with itself: echo_word\n",
    "    echo_word = word*2\n",
    "    \n",
    "    # Print echo_word\n",
    "    print(echo_word)\n",
    "    \n",
    "    # Define inner function shout()\n",
    "    def shout():\n",
    "        \"\"\"Alter a variable in the enclosing scope\"\"\"\n",
    "        \n",
    "        # Use echo_word in nonlocal scope\n",
    "        nonlocal echo_word\n",
    "        \n",
    "        # Change echo_word to echo_word concatenated with '!!!'\n",
    "        echo_word = echo_word + '!!!'\n",
    "    \n",
    "    # Call function shout()\n",
    "    shout()\n",
    "    \n",
    "    # Print echo_word\n",
    "    print(echo_word)\n",
    "\n",
    "# Call function echo_shout() with argument 'hello'\n",
    "echo_shout('hello')"
   ]
  }
 ],
 "metadata": {
  "kernelspec": {
   "display_name": "Python 3 (ipykernel)",
   "language": "python",
   "name": "python3"
  },
  "language_info": {
   "codemirror_mode": {
    "name": "ipython",
    "version": 3
   },
   "file_extension": ".py",
   "mimetype": "text/x-python",
   "name": "python",
   "nbconvert_exporter": "python",
   "pygments_lexer": "ipython3",
   "version": "3.9.7"
  }
 },
 "nbformat": 4,
 "nbformat_minor": 5
}

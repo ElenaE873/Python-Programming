{
 "cells": [
  {
   "cell_type": "markdown",
   "id": "17cdb75b",
   "metadata": {},
   "source": [
    "### Default Arguments"
   ]
  },
  {
   "cell_type": "code",
   "execution_count": null,
   "id": "9914dd57",
   "metadata": {},
   "outputs": [],
   "source": [
    "def function(number, num2=1):\n",
    "    new_value = number **num2\n",
    "    return new_value\n",
    "\n",
    "#calling function with the two arguments explicit\n",
    "function(9,2)\n",
    "\n",
    "#calling the function with just the first argument\n",
    "#when the second argument is not called it defaults to the defined value of 1\n",
    "function(9)"
   ]
  },
  {
   "cell_type": "markdown",
   "id": "8ffd28a6",
   "metadata": {},
   "source": [
    "### Flexible Arguments"
   ]
  },
  {
   "cell_type": "code",
   "execution_count": null,
   "id": "0933cb54",
   "metadata": {},
   "outputs": [],
   "source": [
    "def add_all(*args): #*args is really a tuple here\n",
    "    \n",
    "    \"\"\"summing all values in *args together\"\"\"\n",
    "    \n",
    "    sum_all = 0 #initializing sum\n",
    "    \n",
    "    for num in args:\n",
    "        sum_all += num\n",
    "        \n",
    "    return sum_all\n",
    "\n",
    "#call the function with any number of arguments to add them all up\n",
    "add_all(1,2)\n",
    "\n",
    "#or \n",
    "add_all(3,5,6,9)"
   ]
  },
  {
   "cell_type": "markdown",
   "id": "f9c2d502",
   "metadata": {},
   "source": [
    "****kwargs**"
   ]
  },
  {
   "cell_type": "markdown",
   "id": "737d22f1",
   "metadata": {},
   "source": [
    "- using double star to pass an arbitrary number of keyword arguments \"kwargs\"\n",
    "- this is an **argument** preceded by **identifiers**"
   ]
  },
  {
   "cell_type": "code",
   "execution_count": null,
   "id": "f725db63",
   "metadata": {},
   "outputs": [],
   "source": [
    "def function(**kwargs):\n",
    "    \"\"\" print out key-value pairs \"\"\"\n",
    "    \n",
    "    #to print out key-value pairs\n",
    "    for key, value in kwargs.items():\n",
    "        print(key +\\\": \\\" + value)"
   ]
  },
  {
   "cell_type": "markdown",
   "id": "627a58c6",
   "metadata": {},
   "source": [
    "### Lambda"
   ]
  },
  {
   "cell_type": "markdown",
   "id": "ef7f3d47",
   "metadata": {},
   "source": [
    "Resources:\n",
    "- [SquareSpace](https://www.w3resource.com/python-exercises/lambda/index.php)\n",
    "- [CalmCode](https://calmcode.io/)\n",
    "- [W3School](https://www.w3schools.com/python/python_lambda.asp)"
   ]
  }
 ],
 "metadata": {
  "kernelspec": {
   "display_name": "Python 3 (ipykernel)",
   "language": "python",
   "name": "python3"
  },
  "language_info": {
   "codemirror_mode": {
    "name": "ipython",
    "version": 3
   },
   "file_extension": ".py",
   "mimetype": "text/x-python",
   "name": "python",
   "nbconvert_exporter": "python",
   "pygments_lexer": "ipython3",
   "version": "3.9.7"
  }
 },
 "nbformat": 4,
 "nbformat_minor": 5
}
